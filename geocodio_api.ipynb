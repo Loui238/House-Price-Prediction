{
 "cells": [
  {
   "cell_type": "markdown",
   "id": "fe4b39e2",
   "metadata": {},
   "source": [
    "### This file was originally supposed to extract potentially relevant features to predict house prices i.e median age around the house, Percentage of white people around the house, median income in the neighborhood, median house price in the neighborhood, Percentage of people holding a master degree around the house"
   ]
  },
  {
   "cell_type": "markdown",
   "id": "502347ab",
   "metadata": {},
   "source": [
    "### It uses the geocodio api, which becomes quite expensive if used significantly. I.E to get median age around the house in the training set (20000 lookups + 20000 fields lookups = 40000 lookups => around 20 dollars"
   ]
  },
  {
   "cell_type": "markdown",
   "id": "1e4c6a68",
   "metadata": {},
   "source": [
    "### Yet we decided to share it with you even though we did not run it entirely ( only tried once on the test set  and the code is working for each fields"
   ]
  },
  {
   "cell_type": "markdown",
   "id": "8b436f8b",
   "metadata": {},
   "source": [
    "### Everything should be placed into try except statements (as it is done for the two first features) to avoid any errors and pay for nothing !"
   ]
  },
  {
   "cell_type": "code",
   "execution_count": 1,
   "id": "a0d12879",
   "metadata": {},
   "outputs": [],
   "source": [
    "import pandas as pd\n",
    "import numpy as np"
   ]
  },
  {
   "cell_type": "code",
   "execution_count": 2,
   "id": "5ed72d0d",
   "metadata": {},
   "outputs": [],
   "source": [
    "train = pd.read_csv('train.csv', index_col = 'Uniq Id')"
   ]
  },
  {
   "cell_type": "code",
   "execution_count": 3,
   "id": "d43b3e37",
   "metadata": {},
   "outputs": [],
   "source": [
    "test = pd.read_csv('test.csv', index_col= 'Uniq Id')"
   ]
  },
  {
   "cell_type": "code",
   "execution_count": 4,
   "id": "00881b43",
   "metadata": {},
   "outputs": [],
   "source": [
    "API_KEY = ''"
   ]
  },
  {
   "cell_type": "code",
   "execution_count": 5,
   "id": "4518c7f1",
   "metadata": {},
   "outputs": [],
   "source": [
    "from geocodio import GeocodioClient\n",
    "client = GeocodioClient(API_KEY) "
   ]
  },
  {
   "cell_type": "code",
   "execution_count": 9,
   "id": "b237d251",
   "metadata": {},
   "outputs": [
    {
     "data": {
      "text/plain": [
       "['650 Cherrybark Ln Houston, TX 77079',\n",
       " '572 E Royal Forest Blvd Columbus, OH 43214',\n",
       " '25 Broad St #14S New York, NY 10004',\n",
       " '5519 Wallace Martin Way #1175 Raleigh, NC 27616',\n",
       " '5903 Pilar Way Bakersfield, CA 93306',\n",
       " '14000 N 94th St #2200 Scottsdale, AZ 85260',\n",
       " '4412 Delta St #34 San Diego, CA 92113',\n",
       " '6732 N Odell Ave Chicago, IL 60631',\n",
       " '33 Gingerwood Irvine, CA 92603',\n",
       " '2514 Baycrest Dr Houston, TX 77058']"
      ]
     },
     "execution_count": 9,
     "metadata": {},
     "output_type": "execute_result"
    }
   ],
   "source": [
    "train_addresses = [i for i in train['Address'].str.strip().values]\n",
    "train_addresses[:10]"
   ]
  },
  {
   "cell_type": "code",
   "execution_count": 10,
   "id": "b27184a4",
   "metadata": {},
   "outputs": [
    {
     "data": {
      "text/plain": [
       "['1434 Garza Ave Dallas, TX 75216',\n",
       " '6301 River Hills Dr Greensboro, NC 27410',\n",
       " '1124 W Fry St #2 Chicago, IL 60642',\n",
       " '7322 Pepper Ridge Rd Corpus Christi, TX 78413',\n",
       " '1327 S Plymouth Ct #G Chicago, IL 60605',\n",
       " '3161 Center St #405 Miami, FL 33133',\n",
       " '11537 E Mark Ln Scottsdale, AZ 85262',\n",
       " '200 Chula Vista Pl NE Albuquerque, NM 87108',\n",
       " '8001 Glendale Woods Xing Henrico, VA 23231',\n",
       " '1841 S Calumet Ave #1708 Chicago, IL 60616']"
      ]
     },
     "execution_count": 10,
     "metadata": {},
     "output_type": "execute_result"
    }
   ],
   "source": [
    "test_addresses = [i for i in test['Address'].str.strip().values]\n",
    "test_addresses[:10]"
   ]
  },
  {
   "cell_type": "markdown",
   "id": "1f7f67fb",
   "metadata": {},
   "source": [
    "# Get Median Age in neighborhood"
   ]
  },
  {
   "cell_type": "code",
   "execution_count": 13,
   "id": "98c73e28",
   "metadata": {},
   "outputs": [],
   "source": [
    "median_age_around_location_test_set= []\n",
    "for i in test_addresses:\n",
    "    try: \n",
    "        median_age = client.batch_geocode(i,fields=[\"acs-demographics\"])[0]['results'][0]['fields']['acs']['demographics']['Median age']['Total']['value']\n",
    "        median_age_around_location_test_set.append(median_age)\n",
    "    except:\n",
    "        median_age_around_location_test_set.append(np.nan)\n",
    "\n",
    "        \n",
    "        \n"
   ]
  },
  {
   "cell_type": "code",
   "execution_count": 15,
   "id": "78731264",
   "metadata": {},
   "outputs": [
    {
     "data": {
      "text/plain": [
       "5000"
      ]
     },
     "execution_count": 15,
     "metadata": {},
     "output_type": "execute_result"
    }
   ],
   "source": [
    "len(median_age_around_location_test_set)"
   ]
  },
  {
   "cell_type": "code",
   "execution_count": 19,
   "id": "5b7a5653",
   "metadata": {},
   "outputs": [
    {
     "data": {
      "text/plain": [
       "72"
      ]
     },
     "execution_count": 19,
     "metadata": {},
     "output_type": "execute_result"
    }
   ],
   "source": [
    "median_age_around_location_test_set.count(np.nan)"
   ]
  },
  {
   "cell_type": "code",
   "execution_count": null,
   "id": "c3c2b01b",
   "metadata": {},
   "outputs": [],
   "source": [
    "median_age_around_location_test_set"
   ]
  },
  {
   "cell_type": "code",
   "execution_count": null,
   "id": "5471ebb6",
   "metadata": {},
   "outputs": [],
   "source": [
    "median_age_around_location_train_set= []\n",
    "for i in train_addresses:\n",
    "    try: \n",
    "        median_age = client.batch_geocode(i,fields=[\"acs-demographics\"])[0]['results'][0]['fields']['acs']['demographics']['Median age']['Total']['value']\n",
    "        median_age_around_location_train_set.append(median_age)\n",
    "    except:\n",
    "        median_age_around_location_train_set.append(np.nan)\n"
   ]
  },
  {
   "cell_type": "code",
   "execution_count": null,
   "id": "d61e4ae8",
   "metadata": {},
   "outputs": [],
   "source": [
    "median_age_around_location_train_set"
   ]
  },
  {
   "cell_type": "markdown",
   "id": "0d776b71",
   "metadata": {},
   "source": [
    "# Get Percentage of White People in the neighborhood"
   ]
  },
  {
   "cell_type": "code",
   "execution_count": null,
   "id": "411b12ca",
   "metadata": {},
   "outputs": [],
   "source": [
    "percentage_white_people_around_location_test_set= []\n",
    "for i in test_addresses:\n",
    "    try:\n",
    "        proportion = client.batch_geocode(i,fields=[\"acs-demographics\"])[0]['results'][0]['fields']['acs']['demographics']['Race and ethnicity']['Not Hispanic or Latino: White alone']['percentage']\n",
    "        percentage_white_people_around_location_test_set.append(proportion)\n",
    "    except:\n",
    "        percentage_white_people_around_location_test_set.append(np.nan)"
   ]
  },
  {
   "cell_type": "code",
   "execution_count": null,
   "id": "b5e77b2e",
   "metadata": {},
   "outputs": [],
   "source": [
    "percentage_white_people_around_location_train_set= []\n",
    "for i in train_addresses:\n",
    "    try:\n",
    "        proportion = client.batch_geocode(i,fields=[\"acs-demographics\"])[0]['results'][0]['fields']['acs']['demographics']['Race and ethnicity']['Not Hispanic or Latino: White alone']['percentage']\n",
    "        percentage_white_people_around_location_train_set.append(proportion)\n",
    "    except:\n",
    "        percentage_white_people_around_location_train_set.append(np.nan)"
   ]
  },
  {
   "cell_type": "markdown",
   "id": "e4f5a79b",
   "metadata": {},
   "source": [
    "# Get Median Income in the Neighborhood"
   ]
  },
  {
   "cell_type": "code",
   "execution_count": null,
   "id": "dc9cddc5",
   "metadata": {},
   "outputs": [],
   "source": [
    "#median_income_near_loc_test_set =[client.batch_geocode(i,fields=[\"acs-economics\"])[0]['results'][0]['fields']['acs']['economics']['Median household income']['Total']['value'] for i in test_addresses]"
   ]
  },
  {
   "cell_type": "code",
   "execution_count": null,
   "id": "b4256ab6",
   "metadata": {},
   "outputs": [],
   "source": [
    "#median_income_near_loc_train_set =[client.batch_geocode(i,fields=[\"acs-economics\"])[0]['results'][0]['fields']['acs']['economics']['Median household income']['Total']['value'] for i in train_addresses]"
   ]
  },
  {
   "cell_type": "code",
   "execution_count": null,
   "id": "b30283a4",
   "metadata": {},
   "outputs": [],
   "source": [
    "#more_200000_income_near_loc_test_set =[client.batch_geocode(i,fields=[\"acs-economics\"])[0]['results'][0]['fields']['acs']['economics']['Household income']['$200,000 or more']['percentage'] for i in test_addresses]"
   ]
  },
  {
   "cell_type": "code",
   "execution_count": null,
   "id": "c4d5d4a8",
   "metadata": {},
   "outputs": [],
   "source": [
    "#more_200000_income_near_loc_train_set =[client.batch_geocode(i,fields=[\"acs-economics\"])[0]['results'][0]['fields']['acs']['economics']['Household income']['$200,000 or more']['percentage'] for i in train_addresses]"
   ]
  },
  {
   "cell_type": "markdown",
   "id": "1bde35c1",
   "metadata": {},
   "source": [
    "# Get Median House Price in the Neighborhood"
   ]
  },
  {
   "cell_type": "code",
   "execution_count": null,
   "id": "e76b36cf",
   "metadata": {},
   "outputs": [],
   "source": [
    "#median_house_price_near_loc_test_set =[client.batch_geocode(i,fields=[\"acs-housing\"])[0]['results'][0]['results'][0]['fields']['acs']['housing']['Median value of owner-occupied housing units']['Total']['value'] for i in test_addresses]"
   ]
  },
  {
   "cell_type": "code",
   "execution_count": null,
   "id": "ca4e541d",
   "metadata": {},
   "outputs": [],
   "source": [
    "#median_house_price_near_loc_train_set =[client.batch_geocode(i,fields=[\"acs-housing\"])[0]['results'][0]['fields']['acs']['housing']['Median value of owner-occupied housing units']['Total']['value'] for i in train_addresses]"
   ]
  },
  {
   "cell_type": "code",
   "execution_count": 90,
   "id": "31ee65a9",
   "metadata": {},
   "outputs": [],
   "source": []
  },
  {
   "cell_type": "markdown",
   "id": "9e053878",
   "metadata": {},
   "source": [
    "# Get Perc. of Men and Women with master degree in the neighborhood"
   ]
  },
  {
   "cell_type": "code",
   "execution_count": null,
   "id": "f8f2b719",
   "metadata": {},
   "outputs": [],
   "source": [
    "#for men"
   ]
  },
  {
   "cell_type": "code",
   "execution_count": null,
   "id": "49504c9a",
   "metadata": {},
   "outputs": [],
   "source": [
    "#percentage_men_master_near_loc_test_set =[client.batch_geocode(i,fields=[\"acs-social\"])[0]['results'][0]['fields']['acs']['social']['Population by minimum level of education'][\"Male: Master's degree\"]['percentage'] for i in test_addresses]"
   ]
  },
  {
   "cell_type": "code",
   "execution_count": null,
   "id": "386ac975",
   "metadata": {},
   "outputs": [],
   "source": [
    "#percentage_men_master_near_loc_train_set =[client.batch_geocode(i,fields=[\"acs-social\"])[0]['results'][0]['fields']['acs']['social']['Population by minimum level of education'][\"Male: Master's degree\"]['percentage'] for i in train_addresses]"
   ]
  },
  {
   "cell_type": "code",
   "execution_count": null,
   "id": "50e3ba7d",
   "metadata": {},
   "outputs": [],
   "source": [
    "#for women"
   ]
  },
  {
   "cell_type": "code",
   "execution_count": null,
   "id": "6ba23835",
   "metadata": {},
   "outputs": [],
   "source": [
    "#percentage_women_master_near_loc_test_set =[client.batch_geocode(i,fields=[\"acs-social\"])[0]['results'][0]['fields']['acs']['social']['Population by minimum level of education'][\"Female: Master's degree\"]['percentage'] for i in train_addresses]"
   ]
  },
  {
   "cell_type": "code",
   "execution_count": null,
   "id": "91e4e258",
   "metadata": {},
   "outputs": [],
   "source": [
    "#percentage_women_master_near_loc_train_set =[client.batch_geocode(i,fields=[\"acs-social\"])[0]['results'][0]['fields']['acs']['social']['Population by minimum level of education'][\"Female: Master's degree\"]['percentage'] for i in train_addresses]"
   ]
  }
 ],
 "metadata": {
  "kernelspec": {
   "display_name": "Python 3 (ipykernel)",
   "language": "python",
   "name": "python3"
  },
  "language_info": {
   "codemirror_mode": {
    "name": "ipython",
    "version": 3
   },
   "file_extension": ".py",
   "mimetype": "text/x-python",
   "name": "python",
   "nbconvert_exporter": "python",
   "pygments_lexer": "ipython3",
   "version": "3.9.12"
  }
 },
 "nbformat": 4,
 "nbformat_minor": 5
}
