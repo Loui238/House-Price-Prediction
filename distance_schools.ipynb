{
 "cells": [
  {
   "cell_type": "markdown",
   "id": "5a2d36c0",
   "metadata": {},
   "source": [
    "### This file computes the distance between each private schools ('private_schools.csv')  and each houses. This operation is performed for the training and testing set. Once all the distances computed, we created 2 new csv files called (one for the training set and one for the test set) with the id of each houses and a binary outcome. The binary outcome is determined (arbitrarly) and ouputs a 1 if a house is located at less than 10km from a school and 0 otherwise."
   ]
  },
  {
   "cell_type": "markdown",
   "id": "535cbbb6",
   "metadata": {},
   "source": [
    "### Unfortunately, considering the size of the file (30000 schools), the number of computations is too high. Indeed, if we consider the training set (20000 observations), the loop has to run 600'000'000 times. We tried multiple times but, our computers were crashing after more or less 2'000'000 computations ( memory usage was skyrocketing ). We could have used some not so free cloud platform but we did not.\n"
   ]
  },
  {
   "cell_type": "code",
   "execution_count": 1,
   "id": "a6f60600",
   "metadata": {},
   "outputs": [],
   "source": [
    "import pandas as pd\n",
    "import numpy as np\n",
    "from geopy import distance"
   ]
  },
  {
   "cell_type": "code",
   "execution_count": 2,
   "id": "bc7359e8",
   "metadata": {},
   "outputs": [],
   "source": [
    "# Load the training and test data\n",
    "train = pd.read_csv('train.csv', index_col='Uniq Id')\n",
    "test = pd.read_csv('test.csv', index_col='Uniq Id')"
   ]
  },
  {
   "cell_type": "code",
   "execution_count": 3,
   "id": "9c7cd5bc",
   "metadata": {},
   "outputs": [],
   "source": [
    "train['lat_long'] = list(zip(train.Latitude, train.Longitude))\n",
    "test['lat_long'] = list(zip(test.Latitude, test.Longitude))"
   ]
  },
  {
   "cell_type": "code",
   "execution_count": 4,
   "id": "fc2c0d03",
   "metadata": {},
   "outputs": [],
   "source": [
    "private_schools = pd.read_csv('Private_Schools.csv', index_col = 'OBJECTID')"
   ]
  },
  {
   "cell_type": "code",
   "execution_count": 5,
   "id": "86cbf67c",
   "metadata": {},
   "outputs": [],
   "source": [
    "private_schools['lat_long'] = list(zip(private_schools.LATITUDE, private_schools.LONGITUDE))"
   ]
  },
  {
   "cell_type": "code",
   "execution_count": 6,
   "id": "77da3bcb",
   "metadata": {},
   "outputs": [],
   "source": [
    "#train"
   ]
  },
  {
   "cell_type": "code",
   "execution_count": 7,
   "id": "496d3e7c",
   "metadata": {},
   "outputs": [],
   "source": [
    "train_test = pd.read_csv('train.csv')\n",
    "private_schools_test = pd.read_csv('Private_Schools.csv')"
   ]
  },
  {
   "cell_type": "code",
   "execution_count": 8,
   "id": "ba990cfb",
   "metadata": {},
   "outputs": [],
   "source": [
    "df1 = train_test[['Uniq Id', 'Latitude','Longitude']]\n",
    "df2 = private_schools_test[['OBJECTID', 'LATITUDE','LONGITUDE']]"
   ]
  },
  {
   "cell_type": "code",
   "execution_count": 9,
   "id": "8eb1f5f7",
   "metadata": {},
   "outputs": [],
   "source": [
    "df1 = df1.rename(columns = {'Uniq Id': 'id'})\n",
    "df2 = df2.rename(columns = {'OBJECTID': 'id'})"
   ]
  },
  {
   "cell_type": "code",
   "execution_count": null,
   "id": "d93bb440",
   "metadata": {},
   "outputs": [],
   "source": [
    "dfm = pd.merge(df1, df2, how = 'cross', suffixes = ['','_2'])"
   ]
  },
  {
   "cell_type": "code",
   "execution_count": null,
   "id": "d5f48734",
   "metadata": {},
   "outputs": [],
   "source": [
    "dfm.head(5)"
   ]
  },
  {
   "cell_type": "code",
   "execution_count": null,
   "id": "740a0e9e",
   "metadata": {},
   "outputs": [],
   "source": [
    "dfm.info"
   ]
  },
  {
   "cell_type": "code",
   "execution_count": null,
   "id": "438277f6",
   "metadata": {},
   "outputs": [],
   "source": [
    "# Below we tried to separate the file to avoid crashing our computers but still it did not work"
   ]
  },
  {
   "cell_type": "code",
   "execution_count": null,
   "id": "81709def",
   "metadata": {},
   "outputs": [],
   "source": [
    "first = dfm.iloc[:50000000]"
   ]
  },
  {
   "cell_type": "code",
   "execution_count": null,
   "id": "a77a0161",
   "metadata": {},
   "outputs": [],
   "source": [
    "second = dfm.iloc[50000000:100000000]"
   ]
  },
  {
   "cell_type": "code",
   "execution_count": null,
   "id": "0968de63",
   "metadata": {},
   "outputs": [],
   "source": [
    "third = dfm.iloc[100000000:150000000]"
   ]
  },
  {
   "cell_type": "code",
   "execution_count": null,
   "id": "1ce684ae",
   "metadata": {},
   "outputs": [],
   "source": [
    "fourth = dfm.iloc[150000000:200000000]"
   ]
  },
  {
   "cell_type": "code",
   "execution_count": null,
   "id": "3c8e0b39",
   "metadata": {},
   "outputs": [],
   "source": [
    "fifth = dfm.iloc[200000000:250000000]"
   ]
  },
  {
   "cell_type": "code",
   "execution_count": null,
   "id": "3303d86e",
   "metadata": {},
   "outputs": [],
   "source": [
    "sixth = dfm.iloc[250000000:300000000]"
   ]
  },
  {
   "cell_type": "code",
   "execution_count": null,
   "id": "8d214f57",
   "metadata": {},
   "outputs": [],
   "source": [
    "seven = dfm.iloc[300000000:350000000]"
   ]
  },
  {
   "cell_type": "code",
   "execution_count": null,
   "id": "9f5ae3f9",
   "metadata": {},
   "outputs": [],
   "source": [
    "eight = dfm.iloc[350000000:400000000]"
   ]
  },
  {
   "cell_type": "code",
   "execution_count": null,
   "id": "ea65b961",
   "metadata": {},
   "outputs": [],
   "source": [
    "nine = dfm.iloc[400000000:450000000]"
   ]
  },
  {
   "cell_type": "code",
   "execution_count": null,
   "id": "6d8a8881",
   "metadata": {},
   "outputs": [],
   "source": [
    "ten  = dfm.iloc[450000000:500000000]"
   ]
  },
  {
   "cell_type": "code",
   "execution_count": null,
   "id": "2d5fde64",
   "metadata": {},
   "outputs": [],
   "source": [
    "eleven = dfm.iloc[500000000:550000000]"
   ]
  },
  {
   "cell_type": "code",
   "execution_count": null,
   "id": "3ec9ae4a",
   "metadata": {},
   "outputs": [],
   "source": [
    "twelve = dfm.iloc[550000000:600000000]"
   ]
  },
  {
   "cell_type": "code",
   "execution_count": null,
   "id": "8d5183b7",
   "metadata": {},
   "outputs": [],
   "source": [
    "thirteen =  dfm.iloc[600000000:]"
   ]
  },
  {
   "cell_type": "code",
   "execution_count": null,
   "id": "1789d59e",
   "metadata": {},
   "outputs": [],
   "source": [
    "first['dist'] = first.apply(lambda r: distance.distance((r['Latitude'],r['Longitude']),(r['LATITUDE'],r['LONGITUDE'])).km * 1000 , axis=1)"
   ]
  },
  {
   "cell_type": "code",
   "execution_count": null,
   "id": "8f2476c8",
   "metadata": {},
   "outputs": [],
   "source": [
    "first.to_csv('first.csv')"
   ]
  },
  {
   "cell_type": "code",
   "execution_count": null,
   "id": "37e71f64",
   "metadata": {},
   "outputs": [],
   "source": [
    "second['dist'] = second.apply(lambda r: distance.distance((r['Latitude'],r['Longitude']),(r['LATITUDE'],r['LONGITUDE'])).km * 1000 , axis=1)"
   ]
  },
  {
   "cell_type": "code",
   "execution_count": null,
   "id": "0646dd25",
   "metadata": {},
   "outputs": [],
   "source": [
    "second.to_csv('second.csv')"
   ]
  },
  {
   "cell_type": "code",
   "execution_count": null,
   "id": "3fc3298f",
   "metadata": {},
   "outputs": [],
   "source": [
    "third['dist'] = third.apply(lambda r: distance.distance((r['Latitude'],r['Longitude']),(r['LATITUDE'],r['LONGITUDE'])).km * 1000 , axis=1)"
   ]
  },
  {
   "cell_type": "code",
   "execution_count": null,
   "id": "d8fe29b9",
   "metadata": {},
   "outputs": [],
   "source": [
    "third.to_csv('third.csv')"
   ]
  },
  {
   "cell_type": "code",
   "execution_count": null,
   "id": "9324dacf",
   "metadata": {},
   "outputs": [],
   "source": [
    "fourth['dist'] = fourth.apply(lambda r: distance.distance((r['Latitude'],r['Longitude']),(r['LATITUDE'],r['LONGITUDE'])).km * 1000 , axis=1)"
   ]
  },
  {
   "cell_type": "code",
   "execution_count": null,
   "id": "8669713d",
   "metadata": {},
   "outputs": [],
   "source": [
    "fourth.to_csv('fourth.csv')"
   ]
  },
  {
   "cell_type": "code",
   "execution_count": null,
   "id": "dc575e51",
   "metadata": {},
   "outputs": [],
   "source": [
    "fifth['dist'] = fifth.apply(lambda r: distance.distance((r['Latitude'],r['Longitude']),(r['LATITUDE'],r['LONGITUDE'])).km * 1000 , axis=1)"
   ]
  },
  {
   "cell_type": "code",
   "execution_count": null,
   "id": "c0e591d3",
   "metadata": {},
   "outputs": [],
   "source": [
    "fifth.to_csv('fifth.csv')"
   ]
  },
  {
   "cell_type": "code",
   "execution_count": null,
   "id": "a28a5204",
   "metadata": {},
   "outputs": [],
   "source": [
    "sixth['dist'] = sixth.apply(lambda r: distance.distance((r['Latitude'],r['Longitude']),(r['LATITUDE'],r['LONGITUDE'])).km * 1000 , axis=1)"
   ]
  },
  {
   "cell_type": "code",
   "execution_count": null,
   "id": "60ded0f2",
   "metadata": {},
   "outputs": [],
   "source": [
    "sixth.to_csv('sixth.csv')"
   ]
  },
  {
   "cell_type": "code",
   "execution_count": null,
   "id": "edb104bf",
   "metadata": {},
   "outputs": [],
   "source": [
    "seven['dist'] = seven.apply(lambda r: distance.distance((r['Latitude'],r['Longitude']),(r['LATITUDE'],r['LONGITUDE'])).km * 1000 , axis=1)"
   ]
  },
  {
   "cell_type": "code",
   "execution_count": null,
   "id": "b516d36f",
   "metadata": {},
   "outputs": [],
   "source": [
    "seven.to_csv('seven.csv')"
   ]
  },
  {
   "cell_type": "code",
   "execution_count": null,
   "id": "a8a67ed2",
   "metadata": {},
   "outputs": [],
   "source": [
    "eight['dist'] = eight.apply(lambda r: distance.distance((r['Latitude'],r['Longitude']),(r['LATITUDE'],r['LONGITUDE'])).km * 1000 , axis=1)"
   ]
  },
  {
   "cell_type": "code",
   "execution_count": null,
   "id": "ef893037",
   "metadata": {},
   "outputs": [],
   "source": [
    "eight.to_csv('eight.csv')"
   ]
  },
  {
   "cell_type": "code",
   "execution_count": null,
   "id": "775c50fa",
   "metadata": {},
   "outputs": [],
   "source": [
    "nine['dist'] = nine.apply(lambda r: distance.distance((r['Latitude'],r['Longitude']),(r['LATITUDE'],r['LONGITUDE'])).km * 1000 , axis=1)"
   ]
  },
  {
   "cell_type": "code",
   "execution_count": null,
   "id": "79c506e1",
   "metadata": {},
   "outputs": [],
   "source": [
    "nine.to_csv('nine.csv')"
   ]
  },
  {
   "cell_type": "code",
   "execution_count": null,
   "id": "8525189a",
   "metadata": {},
   "outputs": [],
   "source": [
    "ten['dist'] = ten.apply(lambda r: distance.distance((r['Latitude'],r['Longitude']),(r['LATITUDE'],r['LONGITUDE'])).km * 1000 , axis=1)"
   ]
  },
  {
   "cell_type": "code",
   "execution_count": null,
   "id": "1171b5a9",
   "metadata": {},
   "outputs": [],
   "source": [
    "ten.to_csv('ten.csv')"
   ]
  },
  {
   "cell_type": "code",
   "execution_count": null,
   "id": "530653bf",
   "metadata": {},
   "outputs": [],
   "source": [
    "eleven['dist'] = eleven.apply(lambda r: distance.distance((r['Latitude'],r['Longitude']),(r['LATITUDE'],r['LONGITUDE'])).km * 1000 , axis=1)"
   ]
  },
  {
   "cell_type": "code",
   "execution_count": null,
   "id": "e0b7a8e6",
   "metadata": {},
   "outputs": [],
   "source": [
    "eleven.to_csv('eleven.csv')"
   ]
  },
  {
   "cell_type": "code",
   "execution_count": null,
   "id": "17a2b81d",
   "metadata": {},
   "outputs": [],
   "source": [
    "twelve['dist'] = twelve.apply(lambda r: distance.distance((r['Latitude'],r['Longitude']),(r['LATITUDE'],r['LONGITUDE'])).km * 1000 , axis=1)"
   ]
  },
  {
   "cell_type": "code",
   "execution_count": null,
   "id": "a24288da",
   "metadata": {},
   "outputs": [],
   "source": [
    "twelve.to_csv('twelve.csv')"
   ]
  },
  {
   "cell_type": "code",
   "execution_count": null,
   "id": "e2ac09d3",
   "metadata": {},
   "outputs": [],
   "source": [
    "thirteen['dist'] = thirteen.apply(lambda r: distance.distance((r['Latitude'],r['Longitude']),(r['LATITUDE'],r['LONGITUDE'])).km * 1000 , axis=1)"
   ]
  },
  {
   "cell_type": "code",
   "execution_count": null,
   "id": "98904a6b",
   "metadata": {},
   "outputs": [],
   "source": [
    "thirteen.to_csv('thirteen.csv')"
   ]
  },
  {
   "cell_type": "code",
   "execution_count": null,
   "id": "7da6c86a",
   "metadata": {},
   "outputs": [],
   "source": []
  },
  {
   "cell_type": "code",
   "execution_count": null,
   "id": "f1b9d84d",
   "metadata": {},
   "outputs": [],
   "source": []
  }
 ],
 "metadata": {
  "kernelspec": {
   "display_name": "Python 3 (ipykernel)",
   "language": "python",
   "name": "python3"
  },
  "language_info": {
   "codemirror_mode": {
    "name": "ipython",
    "version": 3
   },
   "file_extension": ".py",
   "mimetype": "text/x-python",
   "name": "python",
   "nbconvert_exporter": "python",
   "pygments_lexer": "ipython3",
   "version": "3.9.12"
  }
 },
 "nbformat": 4,
 "nbformat_minor": 5
}
